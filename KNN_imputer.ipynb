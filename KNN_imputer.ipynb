{
 "cells": [
  {
   "cell_type": "markdown",
   "metadata": {},
   "source": [
    "# KNN imputer"
   ]
  },
  {
   "cell_type": "markdown",
   "metadata": {},
   "source": [
    "**What is K-Nearest Neighbors Imputer (KNN)?**\n",
    "The KNN Imputer is a multivariate imputation method that fills in missing values by considering the values of the nearest neighbors of the data point with missing values. Unlike univariate methods, which consider only one variable at a time, the KNN Imputer uses multiple variables, making it a more robust and reliable approach for estimating missing data.\n",
    "\n",
    "**How Does K-Nearest Neighbors Imputer Work?**\n",
    "The KNN Imputer operates on the principle of the K-Nearest Neighbors algorithm, which is widely used for classification and regression tasks. Here’s a step-by-step breakdown of how the KNN Imputer works:\n",
    "\n",
    "**Distance Calculation:** For each missing value, the KNN Imputer calculates the distance between the data point with missing values and all other data points in the dataset. The default distance metric used is the Euclidean distance, which is NaN-aware, meaning it can handle missing values without biasing the distance calculation.\n",
    "Identifying Neighbors: The algorithm identifies the ‘k’ nearest neighbors to the data point with the missing value. These neighbors are the data points with the smallest distance to the point with the missing value.\n",
    "**Imputation:** The missing value is imputed using the mean (or median) of the identified nearest neighbors. This approach ensures that the imputed value is influenced by the most similar data points, thereby maintaining the integrity of the dataset.\n",
    "**Handling Multivariate Data:** In multivariate datasets, the KNN Imputer considers all available features, making it more effective in capturing the underlying patterns and relationships between variables.\n",
    "Example: Imputing Missing Values with KNN Imputer\n",
    "Imagine you have a dataset with three features (X_1,X_2,X_3) and five observations:\n",
    "\n",
    "Observation\tX_1\tX_2\tX_3\n",
    "1\t2.0\t1.0\t3.0\n",
    "2\t3.0\t2.0\t4.0\n",
    "3\tNaN\t1.5\t5.0\n",
    "4\t5.0\t3.5\t6.0\n",
    "5\t4.0\tNaN\t4.5\n",
    "Here, “NaN” represents missing values.\n",
    "\n",
    "**Step 1: Identify the Missing Values**\n",
    "Let’s say you want to impute the missing value in X_1​ for Observation 3.\n",
    "\n",
    "**Step 2: Compute the Distance**\n",
    "To find the nearest neighbors, we calculate the distance between the observation with the missing value and other observations. A common choice for distance is the Euclidean distance. The Euclidean distance between two points a and b with features x_1,x_2,…,x_n​ is given by:\n",
    "\n",
    "d(a,b) = \\sqrt{\\sum_{i=1}^{n} (a_i – b_i)^2}\n",
    "\n",
    "For X_1, since the missing value is in Observation 3, let’s compute the distance between Observation 3 and other observations based on X_2\\space and\\space X_3\n",
    "\n",
    "​Distance between Observation 3 and Observation 1:\n",
    "d(3,1) = \\sqrt{(1.5 – 1.0)^2 + (5.0 – 3.0)^2} = \\sqrt{0.5^2 + 2.0^2} = \\sqrt{0.25 + 4.0} = \\sqrt{4.25} \\approx 2.06\n",
    "\n",
    "Distance between Observation 3 and Observation 2:\n",
    "d(3,2) = \\sqrt{(1.5 – 2.0)^2 + (5.0 – 4.0)^2} = \\sqrt{(-0.5)^2 + 1.0^2} = \\sqrt{0.25 + 1.0} = \\sqrt{1.25} \\approx 1.12\n",
    "\n",
    "Distance between Observation 3 and Observation 4:\n",
    "d(3,4) = \\sqrt{(1.5 – 3.5)^2 + (5.0 – 6.0)^2} = \\sqrt{(-2.0)^2 + (-1.0)^2} = \\sqrt{4.0 + 1.0} = \\sqrt{5.0} \\approx 2.24\n",
    "\n",
    "**Step 3: Find the Nearest Neighbors**\n",
    "Now, we select the nearest neighbors based on the distances calculated:\n",
    "\n",
    "Observation 2 (distance ≈ 1.12)\n",
    "Observation 1 (distance ≈ 2.06)\n",
    "These are the two closest neighbors to Observation 3.\n",
    "\n",
    "**Step 4: Impute the Missing Value**\n",
    "Finally, the missing value in X_1​ for Observation 3 is imputed by taking the average (for continuous variables) of the nearest neighbors’ values in X_1​:\n",
    "\n",
    "Imputed Value = \\frac{3.0 (\\text{Obs 2}) + 2.0 (\\text{Obs 1})}{2} = \\frac{3.0+2.0}{2}= 2.5\n",
    "\n",
    "So, the missing value in X_1​ for Observation 3 is imputed as 2.5.\n",
    "\n",
    "**Summary**\n",
    "Mathematically, the KNN Imputer works by:\n",
    "\n",
    "Calculating distances between the observation with missing data and all other observations (using available features).\n",
    "Selecting the nearest neighbors based on these distances.\n",
    "Imputing the missing value by averaging (or voting, in case of categorical data) the values of the nearest neighbors for the feature with the missing data.\n",
    "Advantages of KNN Imputer\n",
    "Multivariate Approach: By considering multiple variables, the KNN Imputer provides a more comprehensive estimation of missing values compared to univariate methods.\n",
    "Flexibility: The method can be customized by choosing different distance metrics and the number of neighbors (k) based on the dataset’s characteristics.\n",
    "Preservation of Data Integrity: By using similar data points for imputation, the KNN Imputer helps preserve the original distribution and relationships within the dataset.\n",
    "Challenges and Considerations with KNN Imputer\n",
    "While the KNN Imputer offers several advantages, there are some challenges and considerations to keep in mind:\n",
    "\n",
    "Computational Complexity: The method can be computationally expensive, especially for large datasets, as it involves calculating distances between all data points.\n",
    "Choice of ‘k’: Selecting the appropriate number of neighbors (k) is crucial. A small k might lead to overfitting, while a large k might smooth out important variations.\n",
    "Handling Categorical Data: The KNN Imputer is primarily designed for numerical data. Imputing categorical data requires additional preprocessing or alternative strategies.\n",
    "Conclusion\n",
    "The KNN Imputer is a powerful tool for handling missing data in machine learning and data science projects. By leveraging the relationships within the dataset, it provides a more accurate and reliable imputation compared to traditional methods. However, careful consideration of the dataset characteristics and computational resources is necessary to effectively implement this technique"
   ]
  },
  {
   "cell_type": "markdown",
   "metadata": {},
   "source": [
    "**How KNN imputer workes**\n",
    "- You are as like your neighbours.\n",
    "- If a value is missing,so the value is filled by the row which has simillar to your row.\n",
    "- Similarity = 'Eucliden Distnace'.\n",
    "\n",
    "**Formula to find Eucliden Distance**\n",
    "- dist(x,y)=sqrt(weight*sq.distance from present coordinate)\n",
    "\n",
    "**Formula to find Weight**\n",
    "- (Total no of corrdinates/No of present coordinates)\n",
    "  \n",
    "**ADv & Dis Adv**  \n",
    "- More accurate on small and medium size datasets.\n",
    "- More no of calculation takes more time."
   ]
  },
  {
   "cell_type": "markdown",
   "metadata": {},
   "source": [
    "## Import Libraries:"
   ]
  },
  {
   "cell_type": "code",
   "execution_count": 119,
   "metadata": {},
   "outputs": [],
   "source": [
    "import pandas as pd\n",
    "import numpy as np\n",
    "\n",
    "from sklearn.model_selection import train_test_split\n",
    "from sklearn.impute import KNNImputer"
   ]
  },
  {
   "cell_type": "markdown",
   "metadata": {},
   "source": [
    "## Load Dataset:"
   ]
  },
  {
   "cell_type": "code",
   "execution_count": 120,
   "metadata": {},
   "outputs": [
    {
     "data": {
      "text/html": [
       "<div>\n",
       "<style scoped>\n",
       "    .dataframe tbody tr th:only-of-type {\n",
       "        vertical-align: middle;\n",
       "    }\n",
       "\n",
       "    .dataframe tbody tr th {\n",
       "        vertical-align: top;\n",
       "    }\n",
       "\n",
       "    .dataframe thead th {\n",
       "        text-align: right;\n",
       "    }\n",
       "</style>\n",
       "<table border=\"1\" class=\"dataframe\">\n",
       "  <thead>\n",
       "    <tr style=\"text-align: right;\">\n",
       "      <th></th>\n",
       "      <th>enrollee_id</th>\n",
       "      <th>city</th>\n",
       "      <th>city_development_index</th>\n",
       "      <th>gender</th>\n",
       "      <th>relevent_experience</th>\n",
       "      <th>enrolled_university</th>\n",
       "      <th>education_level</th>\n",
       "      <th>major_discipline</th>\n",
       "      <th>experience</th>\n",
       "      <th>company_size</th>\n",
       "      <th>company_type</th>\n",
       "      <th>training_hours</th>\n",
       "      <th>target</th>\n",
       "    </tr>\n",
       "  </thead>\n",
       "  <tbody>\n",
       "    <tr>\n",
       "      <th>0</th>\n",
       "      <td>8949</td>\n",
       "      <td>city_103</td>\n",
       "      <td>0.920</td>\n",
       "      <td>Male</td>\n",
       "      <td>Has relevent experience</td>\n",
       "      <td>no_enrollment</td>\n",
       "      <td>Graduate</td>\n",
       "      <td>STEM</td>\n",
       "      <td>20.0</td>\n",
       "      <td>NaN</td>\n",
       "      <td>NaN</td>\n",
       "      <td>36.0</td>\n",
       "      <td>1.0</td>\n",
       "    </tr>\n",
       "    <tr>\n",
       "      <th>1</th>\n",
       "      <td>29725</td>\n",
       "      <td>city_40</td>\n",
       "      <td>0.776</td>\n",
       "      <td>Male</td>\n",
       "      <td>No relevent experience</td>\n",
       "      <td>no_enrollment</td>\n",
       "      <td>Graduate</td>\n",
       "      <td>STEM</td>\n",
       "      <td>15.0</td>\n",
       "      <td>50-99</td>\n",
       "      <td>Pvt Ltd</td>\n",
       "      <td>47.0</td>\n",
       "      <td>0.0</td>\n",
       "    </tr>\n",
       "    <tr>\n",
       "      <th>2</th>\n",
       "      <td>11561</td>\n",
       "      <td>city_21</td>\n",
       "      <td>0.624</td>\n",
       "      <td>NaN</td>\n",
       "      <td>No relevent experience</td>\n",
       "      <td>Full time course</td>\n",
       "      <td>Graduate</td>\n",
       "      <td>STEM</td>\n",
       "      <td>5.0</td>\n",
       "      <td>NaN</td>\n",
       "      <td>NaN</td>\n",
       "      <td>83.0</td>\n",
       "      <td>0.0</td>\n",
       "    </tr>\n",
       "    <tr>\n",
       "      <th>3</th>\n",
       "      <td>33241</td>\n",
       "      <td>city_115</td>\n",
       "      <td>0.789</td>\n",
       "      <td>NaN</td>\n",
       "      <td>No relevent experience</td>\n",
       "      <td>NaN</td>\n",
       "      <td>Graduate</td>\n",
       "      <td>Business Degree</td>\n",
       "      <td>0.0</td>\n",
       "      <td>NaN</td>\n",
       "      <td>Pvt Ltd</td>\n",
       "      <td>52.0</td>\n",
       "      <td>1.0</td>\n",
       "    </tr>\n",
       "    <tr>\n",
       "      <th>4</th>\n",
       "      <td>666</td>\n",
       "      <td>city_162</td>\n",
       "      <td>0.767</td>\n",
       "      <td>Male</td>\n",
       "      <td>Has relevent experience</td>\n",
       "      <td>no_enrollment</td>\n",
       "      <td>Masters</td>\n",
       "      <td>STEM</td>\n",
       "      <td>20.0</td>\n",
       "      <td>50-99</td>\n",
       "      <td>Funded Startup</td>\n",
       "      <td>8.0</td>\n",
       "      <td>0.0</td>\n",
       "    </tr>\n",
       "  </tbody>\n",
       "</table>\n",
       "</div>"
      ],
      "text/plain": [
       "   enrollee_id      city  city_development_index gender  \\\n",
       "0         8949  city_103                   0.920   Male   \n",
       "1        29725   city_40                   0.776   Male   \n",
       "2        11561   city_21                   0.624    NaN   \n",
       "3        33241  city_115                   0.789    NaN   \n",
       "4          666  city_162                   0.767   Male   \n",
       "\n",
       "       relevent_experience enrolled_university education_level  \\\n",
       "0  Has relevent experience       no_enrollment        Graduate   \n",
       "1   No relevent experience       no_enrollment        Graduate   \n",
       "2   No relevent experience    Full time course        Graduate   \n",
       "3   No relevent experience                 NaN        Graduate   \n",
       "4  Has relevent experience       no_enrollment         Masters   \n",
       "\n",
       "  major_discipline  experience company_size    company_type  training_hours  \\\n",
       "0             STEM        20.0          NaN             NaN            36.0   \n",
       "1             STEM        15.0        50-99         Pvt Ltd            47.0   \n",
       "2             STEM         5.0          NaN             NaN            83.0   \n",
       "3  Business Degree         0.0          NaN         Pvt Ltd            52.0   \n",
       "4             STEM        20.0        50-99  Funded Startup             8.0   \n",
       "\n",
       "   target  \n",
       "0     1.0  \n",
       "1     0.0  \n",
       "2     0.0  \n",
       "3     1.0  \n",
       "4     0.0  "
      ]
     },
     "execution_count": 120,
     "metadata": {},
     "output_type": "execute_result"
    }
   ],
   "source": [
    "df=pd.read_csv('../Data/data_science_job.csv')\n",
    "df.head()"
   ]
  },
  {
   "cell_type": "code",
   "execution_count": 121,
   "metadata": {},
   "outputs": [
    {
     "data": {
      "text/plain": [
       "company_type              32.049274\n",
       "company_size              30.994885\n",
       "gender                    23.530640\n",
       "major_discipline          14.683161\n",
       "training_hours             3.998330\n",
       "city_development_index     2.500261\n",
       "education_level            2.401086\n",
       "enrolled_university        2.014824\n",
       "experience                 0.339284\n",
       "enrollee_id                0.000000\n",
       "city                       0.000000\n",
       "relevent_experience        0.000000\n",
       "target                     0.000000\n",
       "dtype: float64"
      ]
     },
     "execution_count": 121,
     "metadata": {},
     "output_type": "execute_result"
    }
   ],
   "source": [
    "(df.isnull().mean()*100).sort_values(ascending=False)"
   ]
  },
  {
   "cell_type": "code",
   "execution_count": 138,
   "metadata": {},
   "outputs": [],
   "source": [
    "X=df['training_hours']\n",
    "y=df['target']"
   ]
  },
  {
   "cell_type": "code",
   "execution_count": 123,
   "metadata": {},
   "outputs": [],
   "source": [
    "X_train,X_test,y_train,y_test=train_test_split(X,y,test_size=0.2,random_state=2)\n",
    "\n",
    "X_train = X_train.values.reshape(-1, 1)\n",
    "X_test = X_test.values.reshape(-1, 1)"
   ]
  },
  {
   "cell_type": "code",
   "execution_count": 124,
   "metadata": {},
   "outputs": [],
   "source": [
    "imp = KNNImputer()\n",
    "\n",
    "X_train_trf = imp.fit_transform(X_train)\n",
    "X_test_trf = imp.transform(X_test)"
   ]
  },
  {
   "cell_type": "code",
   "execution_count": 125,
   "metadata": {},
   "outputs": [
    {
     "data": {
      "text/plain": [
       "0    0\n",
       "dtype: int64"
      ]
     },
     "execution_count": 125,
     "metadata": {},
     "output_type": "execute_result"
    }
   ],
   "source": [
    "X_train_trf = pd.DataFrame(X_train_trf)\n",
    "X_train_trf.isnull().sum()"
   ]
  },
  {
   "cell_type": "code",
   "execution_count": 126,
   "metadata": {},
   "outputs": [],
   "source": [
    "from sklearn.metrics import accuracy_score\n",
    "from sklearn.linear_model import LogisticRegression"
   ]
  },
  {
   "cell_type": "code",
   "execution_count": 127,
   "metadata": {},
   "outputs": [
    {
     "data": {
      "text/plain": [
       "0.7484342379958246"
      ]
     },
     "execution_count": 127,
     "metadata": {},
     "output_type": "execute_result"
    }
   ],
   "source": [
    "lr=LogisticRegression()\n",
    "\n",
    "lr.fit(X_train_trf,y_train)\n",
    "\n",
    "y_pred=lr.predict(X_test_trf)\n",
    "\n",
    "accuracy_score(y_test,y_pred)"
   ]
  },
  {
   "cell_type": "markdown",
   "metadata": {},
   "source": [
    "- We can change no of neighbours to get better accuracy.\n",
    "- Then we can change weights."
   ]
  }
 ],
 "metadata": {
  "kernelspec": {
   "display_name": "main",
   "language": "python",
   "name": "python3"
  },
  "language_info": {
   "codemirror_mode": {
    "name": "ipython",
    "version": 3
   },
   "file_extension": ".py",
   "mimetype": "text/x-python",
   "name": "python",
   "nbconvert_exporter": "python",
   "pygments_lexer": "ipython3",
   "version": "3.12.3"
  }
 },
 "nbformat": 4,
 "nbformat_minor": 2
}
